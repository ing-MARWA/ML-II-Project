{
  "cells": [
    {
      "cell_type": "code",
      "execution_count": 2,
      "metadata": {
        "id": "DGAfaqaivxb-"
      },
      "outputs": [],
      "source": [
        "#Reading the Dataset.\n",
        "import pandas as pd\n",
        "import numpy as np\n",
        "import matplotlib.pyplot as plt\n",
        "import seaborn as sns\n",
        "data = pd.read_csv(\"data.csv\")"
      ]
    },
    {
      "cell_type": "code",
      "execution_count": 3,
      "metadata": {
        "colab": {
          "base_uri": "https://localhost:8080/"
        },
        "id": "yjt-E4Db2Mei",
        "outputId": "33369d18-f15d-452e-bae0-3d85023fb054"
      },
      "outputs": [
        {
          "name": "stdout",
          "output_type": "stream",
          "text": [
            "<class 'pandas.core.frame.DataFrame'>\n",
            "RangeIndex: 2200 entries, 0 to 2199\n",
            "Data columns (total 8 columns):\n",
            " #   Column       Non-Null Count  Dtype  \n",
            "---  ------       --------------  -----  \n",
            " 0   N            2200 non-null   int64  \n",
            " 1   P            2200 non-null   int64  \n",
            " 2   K            2200 non-null   int64  \n",
            " 3   temperature  2200 non-null   float64\n",
            " 4   humidity     2200 non-null   float64\n",
            " 5   ph           2200 non-null   float64\n",
            " 6   rainfall     2200 non-null   float64\n",
            " 7   label        2200 non-null   object \n",
            "dtypes: float64(4), int64(3), object(1)\n",
            "memory usage: 137.6+ KB\n"
          ]
        }
      ],
      "source": [
        "#Checking the missing values\n",
        "data.info()"
      ]
    },
    {
      "cell_type": "code",
      "execution_count": 4,
      "metadata": {
        "colab": {
          "base_uri": "https://localhost:8080/"
        },
        "id": "G1NE56UB2Qvy",
        "outputId": "89e9d175-0fc1-4e00-ae9f-e40c8d355da6"
      },
      "outputs": [
        {
          "data": {
            "text/plain": [
              "label\n",
              "rice           100\n",
              "maize          100\n",
              "jute           100\n",
              "cotton         100\n",
              "coconut        100\n",
              "papaya         100\n",
              "orange         100\n",
              "apple          100\n",
              "muskmelon      100\n",
              "watermelon     100\n",
              "grapes         100\n",
              "mango          100\n",
              "banana         100\n",
              "pomegranate    100\n",
              "lentil         100\n",
              "blackgram      100\n",
              "mungbean       100\n",
              "mothbeans      100\n",
              "pigeonpeas     100\n",
              "kidneybeans    100\n",
              "chickpea       100\n",
              "coffee         100\n",
              "Name: count, dtype: int64"
            ]
          },
          "execution_count": 4,
          "metadata": {},
          "output_type": "execute_result"
        }
      ],
      "source": [
        "#Checking the crops present\n",
        "data.label.value_counts()"
      ]
    },
    {
      "cell_type": "code",
      "execution_count": 5,
      "metadata": {
        "colab": {
          "base_uri": "https://localhost:8080/"
        },
        "id": "upk5e5XU2TkJ",
        "outputId": "083e2f2f-2a28-4ee4-d58b-0b812f3903df"
      },
      "outputs": [
        {
          "data": {
            "text/plain": [
              "array(['rice', 'maize', 'chickpea', 'kidneybeans', 'pigeonpeas',\n",
              "       'mothbeans', 'mungbean', 'blackgram', 'lentil', 'pomegranate',\n",
              "       'banana', 'mango', 'grapes', 'watermelon', 'muskmelon', 'apple',\n",
              "       'orange', 'papaya', 'coconut', 'cotton', 'jute', 'coffee'],\n",
              "      dtype=object)"
            ]
          },
          "execution_count": 5,
          "metadata": {},
          "output_type": "execute_result"
        }
      ],
      "source": [
        "data.label.unique()"
      ]
    },
    {
      "cell_type": "code",
      "execution_count": 6,
      "metadata": {
        "colab": {
          "base_uri": "https://localhost:8080/"
        },
        "id": "NPSVvSyVS1sS",
        "outputId": "ec96756d-c229-42cf-8be9-e06e36ca160c"
      },
      "outputs": [
        {
          "data": {
            "text/plain": [
              "22"
            ]
          },
          "execution_count": 6,
          "metadata": {},
          "output_type": "execute_result"
        }
      ],
      "source": [
        "data.label.nunique()"
      ]
    },
    {
      "cell_type": "code",
      "execution_count": 7,
      "metadata": {
        "id": "0MAg-ov4TOkm"
      },
      "outputs": [],
      "source": [
        "#Checking average climatic and soil requirements\n",
        "Conditions = data.columns"
      ]
    },
    {
      "cell_type": "code",
      "execution_count": 8,
      "metadata": {
        "colab": {
          "base_uri": "https://localhost:8080/",
          "height": 423
        },
        "id": "dZehP_tqTdB6",
        "outputId": "fddb31d7-f2f1-44e3-d056-e76aa4e6bb59"
      },
      "outputs": [
        {
          "data": {
            "text/html": [
              "<div>\n",
              "<style scoped>\n",
              "    .dataframe tbody tr th:only-of-type {\n",
              "        vertical-align: middle;\n",
              "    }\n",
              "\n",
              "    .dataframe tbody tr th {\n",
              "        vertical-align: top;\n",
              "    }\n",
              "\n",
              "    .dataframe thead th {\n",
              "        text-align: right;\n",
              "    }\n",
              "</style>\n",
              "<table border=\"1\" class=\"dataframe\">\n",
              "  <thead>\n",
              "    <tr style=\"text-align: right;\">\n",
              "      <th></th>\n",
              "      <th>N</th>\n",
              "      <th>P</th>\n",
              "      <th>K</th>\n",
              "      <th>temperature</th>\n",
              "      <th>humidity</th>\n",
              "      <th>ph</th>\n",
              "      <th>rainfall</th>\n",
              "    </tr>\n",
              "  </thead>\n",
              "  <tbody>\n",
              "    <tr>\n",
              "      <th>0</th>\n",
              "      <td>90</td>\n",
              "      <td>42</td>\n",
              "      <td>43</td>\n",
              "      <td>20.879744</td>\n",
              "      <td>82.002744</td>\n",
              "      <td>6.502985</td>\n",
              "      <td>202.935536</td>\n",
              "    </tr>\n",
              "    <tr>\n",
              "      <th>1</th>\n",
              "      <td>85</td>\n",
              "      <td>58</td>\n",
              "      <td>41</td>\n",
              "      <td>21.770462</td>\n",
              "      <td>80.319644</td>\n",
              "      <td>7.038096</td>\n",
              "      <td>226.655537</td>\n",
              "    </tr>\n",
              "    <tr>\n",
              "      <th>2</th>\n",
              "      <td>60</td>\n",
              "      <td>55</td>\n",
              "      <td>44</td>\n",
              "      <td>23.004459</td>\n",
              "      <td>82.320763</td>\n",
              "      <td>7.840207</td>\n",
              "      <td>263.964248</td>\n",
              "    </tr>\n",
              "    <tr>\n",
              "      <th>3</th>\n",
              "      <td>74</td>\n",
              "      <td>35</td>\n",
              "      <td>40</td>\n",
              "      <td>26.491096</td>\n",
              "      <td>80.158363</td>\n",
              "      <td>6.980401</td>\n",
              "      <td>242.864034</td>\n",
              "    </tr>\n",
              "    <tr>\n",
              "      <th>4</th>\n",
              "      <td>78</td>\n",
              "      <td>42</td>\n",
              "      <td>42</td>\n",
              "      <td>20.130175</td>\n",
              "      <td>81.604873</td>\n",
              "      <td>7.628473</td>\n",
              "      <td>262.717340</td>\n",
              "    </tr>\n",
              "    <tr>\n",
              "      <th>...</th>\n",
              "      <td>...</td>\n",
              "      <td>...</td>\n",
              "      <td>...</td>\n",
              "      <td>...</td>\n",
              "      <td>...</td>\n",
              "      <td>...</td>\n",
              "      <td>...</td>\n",
              "    </tr>\n",
              "    <tr>\n",
              "      <th>2195</th>\n",
              "      <td>107</td>\n",
              "      <td>34</td>\n",
              "      <td>32</td>\n",
              "      <td>26.774637</td>\n",
              "      <td>66.413269</td>\n",
              "      <td>6.780064</td>\n",
              "      <td>177.774507</td>\n",
              "    </tr>\n",
              "    <tr>\n",
              "      <th>2196</th>\n",
              "      <td>99</td>\n",
              "      <td>15</td>\n",
              "      <td>27</td>\n",
              "      <td>27.417112</td>\n",
              "      <td>56.636362</td>\n",
              "      <td>6.086922</td>\n",
              "      <td>127.924610</td>\n",
              "    </tr>\n",
              "    <tr>\n",
              "      <th>2197</th>\n",
              "      <td>118</td>\n",
              "      <td>33</td>\n",
              "      <td>30</td>\n",
              "      <td>24.131797</td>\n",
              "      <td>67.225123</td>\n",
              "      <td>6.362608</td>\n",
              "      <td>173.322839</td>\n",
              "    </tr>\n",
              "    <tr>\n",
              "      <th>2198</th>\n",
              "      <td>117</td>\n",
              "      <td>32</td>\n",
              "      <td>34</td>\n",
              "      <td>26.272418</td>\n",
              "      <td>52.127394</td>\n",
              "      <td>6.758793</td>\n",
              "      <td>127.175293</td>\n",
              "    </tr>\n",
              "    <tr>\n",
              "      <th>2199</th>\n",
              "      <td>104</td>\n",
              "      <td>18</td>\n",
              "      <td>30</td>\n",
              "      <td>23.603016</td>\n",
              "      <td>60.396475</td>\n",
              "      <td>6.779833</td>\n",
              "      <td>140.937041</td>\n",
              "    </tr>\n",
              "  </tbody>\n",
              "</table>\n",
              "<p>2200 rows × 7 columns</p>\n",
              "</div>"
            ],
            "text/plain": [
              "        N   P   K  temperature   humidity        ph    rainfall\n",
              "0      90  42  43    20.879744  82.002744  6.502985  202.935536\n",
              "1      85  58  41    21.770462  80.319644  7.038096  226.655537\n",
              "2      60  55  44    23.004459  82.320763  7.840207  263.964248\n",
              "3      74  35  40    26.491096  80.158363  6.980401  242.864034\n",
              "4      78  42  42    20.130175  81.604873  7.628473  262.717340\n",
              "...   ...  ..  ..          ...        ...       ...         ...\n",
              "2195  107  34  32    26.774637  66.413269  6.780064  177.774507\n",
              "2196   99  15  27    27.417112  56.636362  6.086922  127.924610\n",
              "2197  118  33  30    24.131797  67.225123  6.362608  173.322839\n",
              "2198  117  32  34    26.272418  52.127394  6.758793  127.175293\n",
              "2199  104  18  30    23.603016  60.396475  6.779833  140.937041\n",
              "\n",
              "[2200 rows x 7 columns]"
            ]
          },
          "execution_count": 8,
          "metadata": {},
          "output_type": "execute_result"
        }
      ],
      "source": [
        "Conditions = data.drop(columns = ['label'])\n",
        "Conditions"
      ]
    },
    {
      "cell_type": "code",
      "execution_count": 9,
      "metadata": {
        "colab": {
          "base_uri": "https://localhost:8080/"
        },
        "id": "n97GF1D32i_n",
        "outputId": "5597545c-fcb3-46c7-a2dc-241f8fe5319e"
      },
      "outputs": [
        {
          "data": {
            "text/plain": [
              "N               79.890000\n",
              "P               47.580000\n",
              "K               39.870000\n",
              "temperature     23.689332\n",
              "humidity        82.272822\n",
              "ph               6.425471\n",
              "rainfall       236.181114\n",
              "dtype: float64"
            ]
          },
          "execution_count": 9,
          "metadata": {},
          "output_type": "execute_result"
        }
      ],
      "source": [
        "#Checking the detailed statistics for each crop\n",
        "Conditions=['N','P','K','temperature','humidity','ph','rainfall']\n",
        "data[(data['label'] == 'rice')][Conditions].mean()"
      ]
    },
    {
      "cell_type": "code",
      "execution_count": 10,
      "metadata": {
        "colab": {
          "base_uri": "https://localhost:8080/",
          "height": 257,
          "referenced_widgets": [
            "b28a50f8a7754d7da601d0bba1c679f4",
            "a6c8b8822b4649b7ba206c2d5d43c85f",
            "cedbeb29904b423b8acaba4299be48e7",
            "e082e8dbb7354c19a2226428fe819ee8",
            "4600026b20304ebeb5585601a65e1940",
            "b9652c867ace47e5a6ab260feaab2cf6",
            "64b1e7dad6a44aa98ffe041d40ff0c4a"
          ]
        },
        "id": "EwFXinS_c-ka",
        "outputId": "5bd8e6a6-a27b-4b15-a391-2ddce241b5c9"
      },
      "outputs": [
        {
          "data": {
            "application/vnd.jupyter.widget-view+json": {
              "model_id": "0def092ae4ad412697ac05f6fb6c8afb",
              "version_major": 2,
              "version_minor": 0
            },
            "text/plain": [
              "interactive(children=(Dropdown(description='crops', options=('rice', 'maize', 'jute', 'cotton', 'coconut', 'pa…"
            ]
          },
          "metadata": {},
          "output_type": "display_data"
        }
      ],
      "source": [
        "import ipywidgets as widgs\n",
        "from ipywidgets import interact\n",
        "@interact\n",
        "def summ(crops = list(data.label.value_counts().index)):\n",
        "    x = data[data.label== crops]\n",
        "    print('Statistic For Nitrogen :')\n",
        "    print('Min:', x['N'].min())\n",
        "    print('Max:' , x['N'].max())\n",
        "    print('Mean:', x['N'].mean())\n",
        "    print('Median:', x['N'].median())\n",
        "    print('\\n')\n",
        "    print('Statistic For Potassium :')\n",
        "    print('Min:', x['P'].min())\n",
        "    print('Max:' , x['P'].max())\n",
        "    print('Mean:', x['P'].mean())\n",
        "    print('Median:', x['P'].median())"
      ]
    },
    {
      "cell_type": "code",
      "execution_count": 11,
      "metadata": {
        "colab": {
          "base_uri": "https://localhost:8080/",
          "height": 483,
          "referenced_widgets": [
            "9fe2033e27af45dcbb47e9710c3b8091",
            "c241f6a9b2224081b903cbcefabfd23c",
            "efaeff66f4a14af389aec9642fbd80e3",
            "51b09e3c5fc34e3abd11fec132a5dfd4",
            "286dda46b8a5474cafebd3a6061d1b0e",
            "05bb1be41cac432ea6564059ae02b60c",
            "86ee6f49f5e4435dbc3c777d11c460bf"
          ]
        },
        "id": "5i7zMMyJ2pxn",
        "outputId": "fbc38291-3a5e-45c0-c329-88c49e0db1f8"
      },
      "outputs": [
        {
          "data": {
            "application/vnd.jupyter.widget-view+json": {
              "model_id": "33319a7fa7354904a4648709c6b73d2c",
              "version_major": 2,
              "version_minor": 0
            },
            "text/plain": [
              "interactive(children=(Dropdown(description='Conditions', options=('N', 'P', 'K', 'temperature', 'humidity', 'p…"
            ]
          },
          "metadata": {},
          "output_type": "display_data"
        }
      ],
      "source": [
        "#Comparing Average requirement and conditions for each crop\n",
        "import ipywidgets as widgs\n",
        "from ipywidgets import interact\n",
        "\n",
        "@interact\n",
        "def Compare (Conditions = ['N','P','K','temperature','humidity','ph','rainfall']):\n",
        "    print(f\"Average Value for {Conditions} is {(data[Conditions].mean())}\")\n",
        "    print('\\n')\n",
        "    print(f\"Rice : {data[(data['label'] == 'rice')][Conditions].mean()}\")\n",
        "    print(f\"Maize : {data[(data['label'] == 'maize')][Conditions].mean()}\")\n",
        "    print(f\"Chickpea : {data[(data['label'] == 'chickpea')][Conditions].mean()}\")\n",
        "    print(f\"Kidneybeans : {data[(data['label'] == 'kidneybeans')][Conditions].mean()}\")\n",
        "    print(f\"Pigeonpeas : {data[(data['label'] == 'pigeonpeas')][Conditions].mean()}\")\n",
        "    print(f\"Mothbeans : {data[(data['label'] == 'mothbeans')][Conditions].mean()}\")\n",
        "    print(f\"Mungbean : {data[(data['label'] == 'mungbean')][Conditions].mean()}\")\n",
        "    print(f\"Blackgram : {data[(data['label'] == 'blackgram')][Conditions].mean()}\")\n",
        "    print(f\"Lentil : {data[(data['label'] == 'lentil')][Conditions].mean()}\")\n",
        "    print(f\"Pomegranate : {data[(data['label'] == 'pomegranate')][Conditions].mean()}\")\n",
        "    print(f\"Banana : {data[(data['label'] == 'banana')][Conditions].mean()}\")\n",
        "    print(f\"Mango : {data[(data['label'] == 'mango')][Conditions].mean()}\")\n",
        "    print(f\"Grapes : {data[(data['label'] == 'grapes')][Conditions].mean()}\")\n",
        "    print(f\"Watermelon : {data[(data['label'] == 'watermelon')][Conditions].mean()}\")\n",
        "    print(f\"Muskmelon : {data[(data['label'] == 'muskmelon')][Conditions].mean()}\")\n",
        "    print(f\"Apple : {data[(data['label'] == 'apple')][Conditions].mean()}\")\n",
        "    print(f\"Orange : {data[(data['label'] == 'orange')][Conditions].mean()}\")\n",
        "    print(f\"Papaya : {data[(data['label'] == 'papaya')][Conditions].mean()}\")\n",
        "    print(f\"Coconut : {data[(data['label'] == 'coconut')][Conditions].mean()}\")\n",
        "    print(f\"Cotton : {data[(data['label'] == 'cotton')][Conditions].mean()}\")\n",
        "    print(f\"Jute : {data[(data['label'] == 'jute')][Conditions].mean()}\")\n",
        "    print(f\"Coffee : {data[(data['label'] == 'coffee')][Conditions].mean()}\")"
      ]
    },
    {
      "cell_type": "code",
      "execution_count": 12,
      "metadata": {
        "colab": {
          "base_uri": "https://localhost:8080/",
          "height": 240,
          "referenced_widgets": [
            "8bef4bbc09fd41e4a8261c43e663bb9a",
            "4bdd988663c84602b52042085ba8cf78",
            "d9ab158d71f749af848bff9920ac43d1",
            "24e954d0085a4d8da2a682833aa51009",
            "7dffeb6977a941278da7c75e6109558a",
            "2ba389a60f034b0caffdcda5ea21b882",
            "8cf63738efd245d999ded32d9ef05bed"
          ]
        },
        "id": "TdHS7gX53Mqu",
        "outputId": "37fc9c98-352a-4a1a-cc87-494e0fd6646a"
      },
      "outputs": [
        {
          "data": {
            "application/vnd.jupyter.widget-view+json": {
              "model_id": "f3dd0764cf054381bce02ea9e183be84",
              "version_major": 2,
              "version_minor": 0
            },
            "text/plain": [
              "interactive(children=(Dropdown(description='Conditions', options=('N', 'P', 'K', 'temperature', 'humidity', 'p…"
            ]
          },
          "metadata": {},
          "output_type": "display_data"
        }
      ],
      "source": [
        "#Checking the below and above Average Conditions\n",
        "@interact\n",
        "def Compare(Conditions = ['N','P','K','temperature','humidity','ph','rainfall']):\n",
        "    print(\"Crops which required greater than average\",Conditions,' :','\\n')\n",
        "    print(data[data[Conditions] > data[Conditions].mean()]['label'].unique())\n",
        "    print('\\n')\n",
        "    print(\"Crops which required less than average\",Conditions,' :','\\n')\n",
        "    print(data[data[Conditions] <= data[Conditions].mean()]['label'].unique())"
      ]
    },
    {
      "cell_type": "code",
      "execution_count": 13,
      "metadata": {
        "colab": {
          "base_uri": "https://localhost:8080/",
          "height": 1000
        },
        "id": "AfJapiyE3QRu",
        "outputId": "ad87c4c8-2c6f-4d0e-d6ac-a9c76b128b48"
      },
      "outputs": [
        {
          "name": "stderr",
          "output_type": "stream",
          "text": [
            "C:\\Users\\Marwa\\AppData\\Local\\Temp\\ipykernel_19444\\3227719410.py:4: UserWarning: \n",
            "\n",
            "`distplot` is a deprecated function and will be removed in seaborn v0.14.0.\n",
            "\n",
            "Please adapt your code to use either `displot` (a figure-level function with\n",
            "similar flexibility) or `histplot` (an axes-level function for histograms).\n",
            "\n",
            "For a guide to updating your code to use the new functions, please see\n",
            "https://gist.github.com/mwaskom/de44147ed2974457ad6372750bbe5751\n",
            "\n",
            "  sns.distplot(data['N'], color='#002b80')\n",
            "C:\\Users\\Marwa\\AppData\\Local\\Temp\\ipykernel_19444\\3227719410.py:11: UserWarning: \n",
            "\n",
            "`distplot` is a deprecated function and will be removed in seaborn v0.14.0.\n",
            "\n",
            "Please adapt your code to use either `displot` (a figure-level function with\n",
            "similar flexibility) or `histplot` (an axes-level function for histograms).\n",
            "\n",
            "For a guide to updating your code to use the new functions, please see\n",
            "https://gist.github.com/mwaskom/de44147ed2974457ad6372750bbe5751\n",
            "\n",
            "  sns.distplot(data['P'], color='#333300')\n",
            "C:\\Users\\Marwa\\AppData\\Local\\Temp\\ipykernel_19444\\3227719410.py:16: UserWarning: \n",
            "\n",
            "`distplot` is a deprecated function and will be removed in seaborn v0.14.0.\n",
            "\n",
            "Please adapt your code to use either `displot` (a figure-level function with\n",
            "similar flexibility) or `histplot` (an axes-level function for histograms).\n",
            "\n",
            "For a guide to updating your code to use the new functions, please see\n",
            "https://gist.github.com/mwaskom/de44147ed2974457ad6372750bbe5751\n",
            "\n",
            "  sns.distplot(data['K'],color='#4d0000')\n",
            "C:\\Users\\Marwa\\AppData\\Local\\Temp\\ipykernel_19444\\3227719410.py:21: UserWarning: \n",
            "\n",
            "`distplot` is a deprecated function and will be removed in seaborn v0.14.0.\n",
            "\n",
            "Please adapt your code to use either `displot` (a figure-level function with\n",
            "similar flexibility) or `histplot` (an axes-level function for histograms).\n",
            "\n",
            "For a guide to updating your code to use the new functions, please see\n",
            "https://gist.github.com/mwaskom/de44147ed2974457ad6372750bbe5751\n",
            "\n",
            "  sns.distplot(data['temperature'],color='#009900')\n",
            "C:\\Users\\Marwa\\AppData\\Local\\Temp\\ipykernel_19444\\3227719410.py:26: UserWarning: \n",
            "\n",
            "`distplot` is a deprecated function and will be removed in seaborn v0.14.0.\n",
            "\n",
            "Please adapt your code to use either `displot` (a figure-level function with\n",
            "similar flexibility) or `histplot` (an axes-level function for histograms).\n",
            "\n",
            "For a guide to updating your code to use the new functions, please see\n",
            "https://gist.github.com/mwaskom/de44147ed2974457ad6372750bbe5751\n",
            "\n",
            "  sns.distplot(data['humidity'] , color='#669999')\n",
            "C:\\Users\\Marwa\\AppData\\Local\\Temp\\ipykernel_19444\\3227719410.py:31: UserWarning: \n",
            "\n",
            "`distplot` is a deprecated function and will be removed in seaborn v0.14.0.\n",
            "\n",
            "Please adapt your code to use either `displot` (a figure-level function with\n",
            "similar flexibility) or `histplot` (an axes-level function for histograms).\n",
            "\n",
            "For a guide to updating your code to use the new functions, please see\n",
            "https://gist.github.com/mwaskom/de44147ed2974457ad6372750bbe5751\n",
            "\n",
            "  sns.distplot(data['ph'], color='#cc3300')\n",
            "C:\\Users\\Marwa\\AppData\\Local\\Temp\\ipykernel_19444\\3227719410.py:37: UserWarning: \n",
            "\n",
            "`distplot` is a deprecated function and will be removed in seaborn v0.14.0.\n",
            "\n",
            "Please adapt your code to use either `displot` (a figure-level function with\n",
            "similar flexibility) or `histplot` (an axes-level function for histograms).\n",
            "\n",
            "For a guide to updating your code to use the new functions, please see\n",
            "https://gist.github.com/mwaskom/de44147ed2974457ad6372750bbe5751\n",
            "\n",
            "  sns.distplot(data['rainfall'], color='#008080')\n"
          ]
        },
        {
          "data": {
            "image/png": "[encoded data removed]",
            "text/plain": [
              "<Figure size 2800x700 with 7 Axes>"
            ]
          },
          "metadata": {},
          "output_type": "display_data"
        }
      ],
      "source": [
        "#Checking distributiion for each crop\n",
        "plt.figure(figsize=(28,7))\n",
        "plt.subplot(2,4,1)\n",
        "sns.distplot(data['N'], color='#002b80')\n",
        "plt.xlabel('Ratio of Nitrogen',fontsize=12)\n",
        "plt.grid()\n",
        "\n",
        "\n",
        "\n",
        "plt.subplot(2,4,2)\n",
        "sns.distplot(data['P'], color='#333300')\n",
        "plt.xlabel('Ratio of Phosphorous',fontsize=12)\n",
        "plt.grid()\n",
        "\n",
        "plt.subplot(2,4,3)\n",
        "sns.distplot(data['K'],color='#4d0000')\n",
        "plt.xlabel('Ratio of Potassium', fontsize=12)\n",
        "plt.grid()\n",
        "\n",
        "plt.subplot(2,4,4)\n",
        "sns.distplot(data['temperature'],color='#009900')\n",
        "plt.xlabel('Ratio of Temperature' , fontsize=12)\n",
        "plt.grid()\n",
        "\n",
        "plt.subplot(2,4,5)\n",
        "sns.distplot(data['humidity'] , color='#669999')\n",
        "plt.xlabel('Ratio of Humidity', fontsize=12)\n",
        "plt.grid()\n",
        "\n",
        "plt.subplot(2,4,6)\n",
        "sns.distplot(data['ph'], color='#cc3300')\n",
        "plt.xlabel('Ratio of PhScale', fontsize=12)\n",
        "plt.grid()\n",
        "\n",
        "\n",
        "plt.subplot(2,4,7)\n",
        "sns.distplot(data['rainfall'], color='#008080')\n",
        "plt.xlabel('Ratio of Rainfall', fontsize=12)\n",
        "plt.grid()"
      ]
    },
    {
      "cell_type": "code",
      "execution_count": 14,
      "metadata": {
        "colab": {
          "base_uri": "https://localhost:8080/"
        },
        "id": "6sU2Xxas3SRA",
        "outputId": "538e3cfd-8806-4c81-860d-80160a7580c9"
      },
      "outputs": [
        {
          "name": "stdout",
          "output_type": "stream",
          "text": [
            "Potassium : ['grapes' 'apple'] \n",
            "\n",
            "Phosphorous : ['grapes' 'apple'] \n",
            "\n",
            "Nitrogin : ['cotton'] \n",
            "\n",
            "PH : ['mothbeans'] \n",
            "\n",
            "PH : ['mothbeans'] \n",
            "\n",
            "Temperature : ['grapes' 'papaya'] \n",
            "\n",
            "Temperature : ['grapes'] \n",
            "\n",
            "Humidity : [] \n",
            "\n",
            "Humidity : ['chickpea' 'kidneybeans']\n"
          ]
        }
      ],
      "source": [
        "#Checking that crops those have unusual requirements\n",
        "print('Potassium :', data[data['K'] > 200 ]['label'].unique() ,'\\n')\n",
        "print('Phosphorous :', data[data['P'] > 100 ]['label'].unique() ,'\\n')\n",
        "print('Nitrogin :', data[data['N'] > 120 ]['label'].unique() ,'\\n')\n",
        "print('PH :', data[data['ph'] > 9 ]['label'].unique() ,'\\n')\n",
        "print('PH :', data[data['ph'] < 4 ]['label'].unique() , '\\n')\n",
        "print('Temperature :', data[data['temperature'] > 40 ]['label'].unique() ,'\\n')\n",
        "print('Temperature :', data[data['temperature'] < 10 ]['label'].unique() , '\\n')\n",
        "print('Humidity :', data[data['humidity'] > 100 ]['label'].unique() ,'\\n')\n",
        "print('Humidity :', data[data['humidity'] < 20 ]['label'].unique() )"
      ]
    },
    {
      "cell_type": "code",
      "execution_count": 15,
      "metadata": {
        "colab": {
          "base_uri": "https://localhost:8080/"
        },
        "id": "8esMSlDw3Wbn",
        "outputId": "729e4e87-23be-4e76-f768-6ae8adee22f3"
      },
      "outputs": [
        {
          "name": "stdout",
          "output_type": "stream",
          "text": [
            "Crops Which Appropriate in Summer :\n",
            "['pigeonpeas' 'mothbeans' 'blackgram' 'mango' 'grapes' 'orange' 'papaya']\n",
            "\n",
            "\n",
            "Crops Which Appropriate in Winter :\n",
            "['maize' 'pigeonpeas' 'lentil' 'pomegranate' 'grapes' 'orange']\n",
            "\n",
            "\n",
            "Crops Which Appropriate in Rain\n",
            "['rice' 'maize' 'pigeonpeas' 'pomegranate' 'banana' 'mango' 'apple'\n",
            " 'orange' 'papaya' 'coconut' 'jute' 'coffee']\n"
          ]
        }
      ],
      "source": [
        "#Checking which crop to be grown according to the season\n",
        "print (\"Crops Which Appropriate in Summer :\")\n",
        "print(data[(data['temperature'] > 30) & (data['humidity'] > 30)]['label'].unique())\n",
        "print('\\n')\n",
        "print(\"Crops Which Appropriate in Winter :\")\n",
        "print(data[(data['temperature'] < 20) & (data['humidity'] > 30)]['label'].unique())\n",
        "print('\\n')\n",
        "print(\"Crops Which Appropriate in Rain\")\n",
        "print(data[(data['rainfall'] > 100) & (data['humidity'] > 30)]['label'].unique())"
      ]
    },
    {
      "cell_type": "code",
      "execution_count": 16,
      "metadata": {
        "colab": {
          "base_uri": "https://localhost:8080/"
        },
        "id": "gedQc1NVfZ9e",
        "outputId": "6187e9cf-fc88-4a53-f6b8-c15081def3a2"
      },
      "outputs": [
        {
          "name": "stdout",
          "output_type": "stream",
          "text": [
            "(2200, 7)\n"
          ]
        }
      ],
      "source": [
        "# Importing KMeans Algorithm used for clustring Analysis\n",
        "from sklearn.cluster import KMeans\n",
        "#removing the labels column\n",
        "x = data.drop(['label'],axis=1) # Removing labels as it is a case of Unsupervised Learning\n",
        "#selecting all  the values  of the data\n",
        "x = x.values\n",
        "#checking the shape\n",
        "print(x.shape)"
      ]
    },
    {
      "cell_type": "code",
      "execution_count": 17,
      "metadata": {
        "colab": {
          "base_uri": "https://localhost:8080/",
          "height": 418
        },
        "id": "MDC5L24H3a2C",
        "outputId": "923d5b9f-3b31-42cf-bf2d-dc3e7c1e5264"
      },
      "outputs": [
        {
          "data": {
            "image/png": "[encoded data removed]",
            "text/plain": [
              "<Figure size 1000x400 with 1 Axes>"
            ]
          },
          "metadata": {},
          "output_type": "display_data"
        }
      ],
      "source": [
        "#Determining the optimum number of clusters within the Dataset\n",
        "from sklearn.cluster import KMeans\n",
        "plt.rcParams['figure.figsize']=(10,4)\n",
        "\n",
        "wcss=[]\n",
        "\n",
        "for i in range(1,11):\n",
        "    km=KMeans(n_clusters=i,init = 'k-means++',max_iter=300, n_init=10,random_state =0)\n",
        "    km.fit(x)\n",
        "    wcss.append(km.inertia_)\n",
        "\n",
        "\n",
        "#lets plot the results\n",
        "plt.plot(range(1,11),wcss)\n",
        "plt.title('The Elbow Method',fontsize=20)\n",
        "plt.xlabel('No of Clusters')\n",
        "plt.ylabel(\"wcss\")\n",
        "plt.show()"
      ]
    },
    {
      "cell_type": "code",
      "execution_count": 18,
      "metadata": {
        "id": "ggtVo_-L3jyT"
      },
      "outputs": [],
      "source": [
        "#Implementation of K Means algorithm to perform Clustering analysis\n",
        "km = KMeans(n_clusters=4,init='k-means++',max_iter = 300,n_init=10,random_state=0)\n",
        "y_means =km.fit_predict(x)\n",
        "\n",
        "#Lets find out the Result\n",
        "a = data['label']\n",
        "y_means = pd.DataFrame(y_means)\n",
        "Concat_Data = pd.concat([y_means,a],axis=1)\n"
      ]
    },
    {
      "cell_type": "code",
      "execution_count": 19,
      "metadata": {
        "colab": {
          "base_uri": "https://localhost:8080/",
          "height": 423
        },
        "id": "q2M9NUqmgcfh",
        "outputId": "a8ad0ffd-b0d9-4a05-aff0-cda2cee766ac"
      },
      "outputs": [
        {
          "data": {
            "text/html": [
              "<div>\n",
              "<style scoped>\n",
              "    .dataframe tbody tr th:only-of-type {\n",
              "        vertical-align: middle;\n",
              "    }\n",
              "\n",
              "    .dataframe tbody tr th {\n",
              "        vertical-align: top;\n",
              "    }\n",
              "\n",
              "    .dataframe thead th {\n",
              "        text-align: right;\n",
              "    }\n",
              "</style>\n",
              "<table border=\"1\" class=\"dataframe\">\n",
              "  <thead>\n",
              "    <tr style=\"text-align: right;\">\n",
              "      <th></th>\n",
              "      <th>0</th>\n",
              "      <th>label</th>\n",
              "    </tr>\n",
              "  </thead>\n",
              "  <tbody>\n",
              "    <tr>\n",
              "      <th>0</th>\n",
              "      <td>3</td>\n",
              "      <td>rice</td>\n",
              "    </tr>\n",
              "    <tr>\n",
              "      <th>1</th>\n",
              "      <td>3</td>\n",
              "      <td>rice</td>\n",
              "    </tr>\n",
              "    <tr>\n",
              "      <th>2</th>\n",
              "      <td>3</td>\n",
              "      <td>rice</td>\n",
              "    </tr>\n",
              "    <tr>\n",
              "      <th>3</th>\n",
              "      <td>3</td>\n",
              "      <td>rice</td>\n",
              "    </tr>\n",
              "    <tr>\n",
              "      <th>4</th>\n",
              "      <td>3</td>\n",
              "      <td>rice</td>\n",
              "    </tr>\n",
              "    <tr>\n",
              "      <th>...</th>\n",
              "      <td>...</td>\n",
              "      <td>...</td>\n",
              "    </tr>\n",
              "    <tr>\n",
              "      <th>2195</th>\n",
              "      <td>3</td>\n",
              "      <td>coffee</td>\n",
              "    </tr>\n",
              "    <tr>\n",
              "      <th>2196</th>\n",
              "      <td>1</td>\n",
              "      <td>coffee</td>\n",
              "    </tr>\n",
              "    <tr>\n",
              "      <th>2197</th>\n",
              "      <td>3</td>\n",
              "      <td>coffee</td>\n",
              "    </tr>\n",
              "    <tr>\n",
              "      <th>2198</th>\n",
              "      <td>1</td>\n",
              "      <td>coffee</td>\n",
              "    </tr>\n",
              "    <tr>\n",
              "      <th>2199</th>\n",
              "      <td>3</td>\n",
              "      <td>coffee</td>\n",
              "    </tr>\n",
              "  </tbody>\n",
              "</table>\n",
              "<p>2200 rows × 2 columns</p>\n",
              "</div>"
            ],
            "text/plain": [
              "      0   label\n",
              "0     3    rice\n",
              "1     3    rice\n",
              "2     3    rice\n",
              "3     3    rice\n",
              "4     3    rice\n",
              "...  ..     ...\n",
              "2195  3  coffee\n",
              "2196  1  coffee\n",
              "2197  3  coffee\n",
              "2198  1  coffee\n",
              "2199  3  coffee\n",
              "\n",
              "[2200 rows x 2 columns]"
            ]
          },
          "execution_count": 19,
          "metadata": {},
          "output_type": "execute_result"
        }
      ],
      "source": [
        "Concat_Data"
      ]
    },
    {
      "cell_type": "code",
      "execution_count": 20,
      "metadata": {
        "colab": {
          "base_uri": "https://localhost:8080/",
          "height": 423
        },
        "id": "0iZIEFW1ggr1",
        "outputId": "8d51ad24-630d-4a15-db1a-1b337297dbbd"
      },
      "outputs": [
        {
          "data": {
            "text/html": [
              "<div>\n",
              "<style scoped>\n",
              "    .dataframe tbody tr th:only-of-type {\n",
              "        vertical-align: middle;\n",
              "    }\n",
              "\n",
              "    .dataframe tbody tr th {\n",
              "        vertical-align: top;\n",
              "    }\n",
              "\n",
              "    .dataframe thead th {\n",
              "        text-align: right;\n",
              "    }\n",
              "</style>\n",
              "<table border=\"1\" class=\"dataframe\">\n",
              "  <thead>\n",
              "    <tr style=\"text-align: right;\">\n",
              "      <th></th>\n",
              "      <th>cluster</th>\n",
              "      <th>label</th>\n",
              "    </tr>\n",
              "  </thead>\n",
              "  <tbody>\n",
              "    <tr>\n",
              "      <th>0</th>\n",
              "      <td>3</td>\n",
              "      <td>rice</td>\n",
              "    </tr>\n",
              "    <tr>\n",
              "      <th>1</th>\n",
              "      <td>3</td>\n",
              "      <td>rice</td>\n",
              "    </tr>\n",
              "    <tr>\n",
              "      <th>2</th>\n",
              "      <td>3</td>\n",
              "      <td>rice</td>\n",
              "    </tr>\n",
              "    <tr>\n",
              "      <th>3</th>\n",
              "      <td>3</td>\n",
              "      <td>rice</td>\n",
              "    </tr>\n",
              "    <tr>\n",
              "      <th>4</th>\n",
              "      <td>3</td>\n",
              "      <td>rice</td>\n",
              "    </tr>\n",
              "    <tr>\n",
              "      <th>...</th>\n",
              "      <td>...</td>\n",
              "      <td>...</td>\n",
              "    </tr>\n",
              "    <tr>\n",
              "      <th>2195</th>\n",
              "      <td>3</td>\n",
              "      <td>coffee</td>\n",
              "    </tr>\n",
              "    <tr>\n",
              "      <th>2196</th>\n",
              "      <td>1</td>\n",
              "      <td>coffee</td>\n",
              "    </tr>\n",
              "    <tr>\n",
              "      <th>2197</th>\n",
              "      <td>3</td>\n",
              "      <td>coffee</td>\n",
              "    </tr>\n",
              "    <tr>\n",
              "      <th>2198</th>\n",
              "      <td>1</td>\n",
              "      <td>coffee</td>\n",
              "    </tr>\n",
              "    <tr>\n",
              "      <th>2199</th>\n",
              "      <td>3</td>\n",
              "      <td>coffee</td>\n",
              "    </tr>\n",
              "  </tbody>\n",
              "</table>\n",
              "<p>2200 rows × 2 columns</p>\n",
              "</div>"
            ],
            "text/plain": [
              "      cluster   label\n",
              "0           3    rice\n",
              "1           3    rice\n",
              "2           3    rice\n",
              "3           3    rice\n",
              "4           3    rice\n",
              "...       ...     ...\n",
              "2195        3  coffee\n",
              "2196        1  coffee\n",
              "2197        3  coffee\n",
              "2198        1  coffee\n",
              "2199        3  coffee\n",
              "\n",
              "[2200 rows x 2 columns]"
            ]
          },
          "execution_count": 20,
          "metadata": {},
          "output_type": "execute_result"
        }
      ],
      "source": [
        "Rename_Data = Concat_Data.rename(columns={0:'cluster'})\n",
        "Rename_Data"
      ]
    },
    {
      "cell_type": "code",
      "execution_count": 21,
      "metadata": {
        "colab": {
          "base_uri": "https://localhost:8080/"
        },
        "id": "_83_uf5cgro5",
        "outputId": "6e112781-4525-4292-ec17-089ecf3e2340"
      },
      "outputs": [
        {
          "name": "stdout",
          "output_type": "stream",
          "text": [
            "crops in first cluster ['maize' 'chickpea' 'kidneybeans' 'pigeonpeas' 'mothbeans' 'mungbean'\n",
            " 'blackgram' 'lentil' 'pomegranate' 'mango' 'orange' 'papaya' 'coconut']\n",
            "\n",
            "crops in second cluster ['maize' 'banana' 'watermelon' 'muskmelon' 'papaya' 'cotton' 'coffee']\n",
            "\n",
            "crops in third cluster ['grapes' 'apple']\n",
            "\n",
            "crops in fourth cluster ['rice' 'pigeonpeas' 'papaya' 'coconut' 'jute' 'coffee']\n",
            "\n"
          ]
        }
      ],
      "source": [
        "# Perform each Cluster on each Crops\n",
        "print(f\"crops in first cluster {Rename_Data[Rename_Data['cluster'] == 0]['label'].unique()}\\n\")\n",
        "print(f\"crops in second cluster {Rename_Data[Rename_Data['cluster'] == 1]['label'].unique()}\\n\")\n",
        "print(f\"crops in third cluster {Rename_Data[Rename_Data['cluster'] == 2]['label'].unique()}\\n\")\n",
        "print(f\"crops in fourth cluster {Rename_Data[Rename_Data['cluster'] == 3]['label'].unique()}\\n\")"
      ]
    },
    {
      "cell_type": "code",
      "execution_count": 22,
      "metadata": {
        "colab": {
          "base_uri": "https://localhost:8080/"
        },
        "id": "84dXFwq43nCF",
        "outputId": "289bb991-c6c0-41f4-882e-3116ed782c7b"
      },
      "outputs": [
        {
          "name": "stdout",
          "output_type": "stream",
          "text": [
            "Shape of x: (2200, 7)\n",
            "Shape of y: (2200,)\n"
          ]
        }
      ],
      "source": [
        "#Splitting the Dataset for predictive modelling\n",
        "y = data['label']\n",
        "x = data.drop(['label'],axis=1)\n",
        "print(\"Shape of x:\",x.shape)\n",
        "print(\"Shape of y:\",y.shape)\n"
      ]
    },
    {
      "cell_type": "code",
      "execution_count": 23,
      "metadata": {
        "colab": {
          "base_uri": "https://localhost:8080/"
        },
        "id": "iFDP4GfX3sj2",
        "outputId": "b43ea4ac-89b2-4a8d-9c13-c7d401bbe27b"
      },
      "outputs": [
        {
          "name": "stdout",
          "output_type": "stream",
          "text": [
            "x train (1760, 7)\n",
            "x test (440, 7)\n",
            "y train (1760,)\n",
            "y test (440,)\n"
          ]
        }
      ],
      "source": [
        "#Creating training and testing sets for results validation\n",
        "from sklearn.model_selection import train_test_split\n",
        "y = data['label']\n",
        "x = data.drop(['label'],axis=1)\n",
        "x_train , x_test , y_train , y_test = train_test_split(x,y , test_size = 0.2 , random_state = 0)\n",
        "print(f\"x train {x_train.shape}\")\n",
        "print(f\"x test {x_test.shape}\")\n",
        "print(f\"y train {y_train.shape}\")\n",
        "print(f\"y test {y_test.shape}\")"
      ]
    },
    {
      "cell_type": "code",
      "execution_count": 24,
      "metadata": {
        "colab": {
          "base_uri": "https://localhost:8080/"
        },
        "id": "dXMYxMDU3uhN",
        "outputId": "bee8fc33-47e2-40a0-a5be-d9a582d57211"
      },
      "outputs": [
        {
          "name": "stderr",
          "output_type": "stream",
          "text": [
            "C:\\Users\\Marwa\\AppData\\Roaming\\Python\\Python310\\site-packages\\sklearn\\linear_model\\_logistic.py:458: ConvergenceWarning: lbfgs failed to converge (status=1):\n",
            "STOP: TOTAL NO. of ITERATIONS REACHED LIMIT.\n",
            "\n",
            "Increase the number of iterations (max_iter) or scale the data as shown in:\n",
            "    https://scikit-learn.org/stable/modules/preprocessing.html\n",
            "Please also refer to the documentation for alternative solver options:\n",
            "    https://scikit-learn.org/stable/modules/linear_model.html#logistic-regression\n",
            "  n_iter_i = _check_optimize_result(\n"
          ]
        },
        {
          "data": {
            "text/plain": [
              "array(['watermelon', 'watermelon', 'grapes', 'chickpea', 'blackgram',\n",
              "       'jute', 'mothbeans', 'kidneybeans', 'muskmelon', 'banana',\n",
              "       'mothbeans', 'coffee', 'lentil', 'mungbean', 'mango', 'apple',\n",
              "       'coffee', 'lentil', 'coffee', 'mango', 'coconut', 'blackgram',\n",
              "       'kidneybeans', 'jute', 'cotton', 'coffee', 'lentil', 'orange',\n",
              "       'mothbeans', 'kidneybeans', 'pomegranate', 'rice', 'maize',\n",
              "       'muskmelon', 'coconut', 'cotton', 'mango', 'mango', 'watermelon',\n",
              "       'mothbeans', 'maize', 'blackgram', 'pigeonpeas', 'watermelon',\n",
              "       'pigeonpeas', 'mungbean', 'kidneybeans', 'kidneybeans', 'cotton',\n",
              "       'mungbean', 'mothbeans', 'blackgram', 'apple', 'muskmelon',\n",
              "       'pigeonpeas', 'banana', 'papaya', 'mango', 'lentil', 'cotton',\n",
              "       'orange', 'mungbean', 'watermelon', 'rice', 'muskmelon', 'apple',\n",
              "       'grapes', 'coffee', 'apple', 'orange', 'coconut', 'pomegranate',\n",
              "       'kidneybeans', 'maize', 'grapes', 'mothbeans', 'chickpea', 'maize',\n",
              "       'jute', 'mango', 'rice', 'mothbeans', 'watermelon', 'watermelon',\n",
              "       'muskmelon', 'cotton', 'maize', 'lentil', 'mothbeans', 'papaya',\n",
              "       'blackgram', 'jute', 'mungbean', 'grapes', 'mungbean', 'maize',\n",
              "       'coffee', 'jute', 'lentil', 'chickpea', 'orange', 'jute',\n",
              "       'mungbean', 'banana', 'banana', 'rice', 'watermelon', 'coffee',\n",
              "       'pigeonpeas', 'muskmelon', 'muskmelon', 'mango', 'coffee',\n",
              "       'grapes', 'orange', 'pomegranate', 'mungbean', 'lentil', 'maize',\n",
              "       'jute', 'pomegranate', 'lentil', 'orange', 'chickpea', 'chickpea',\n",
              "       'blackgram', 'pomegranate', 'orange', 'chickpea', 'papaya',\n",
              "       'mothbeans', 'blackgram', 'muskmelon', 'mungbean', 'cotton',\n",
              "       'mungbean', 'coconut', 'pomegranate', 'orange', 'blackgram',\n",
              "       'lentil', 'grapes', 'apple', 'coffee', 'chickpea', 'apple', 'jute',\n",
              "       'mango', 'watermelon', 'papaya', 'orange', 'coconut', 'mothbeans',\n",
              "       'banana', 'pomegranate', 'chickpea', 'watermelon', 'maize',\n",
              "       'apple', 'jute', 'lentil', 'pigeonpeas', 'jute', 'kidneybeans',\n",
              "       'kidneybeans', 'muskmelon', 'rice', 'muskmelon', 'banana',\n",
              "       'orange', 'pigeonpeas', 'apple', 'mothbeans', 'coconut', 'cotton',\n",
              "       'mungbean', 'kidneybeans', 'pomegranate', 'papaya', 'orange',\n",
              "       'rice', 'papaya', 'papaya', 'pigeonpeas', 'kidneybeans', 'banana',\n",
              "       'coconut', 'pigeonpeas', 'rice', 'papaya', 'maize', 'jute',\n",
              "       'mothbeans', 'rice', 'maize', 'coffee', 'pigeonpeas', 'coconut',\n",
              "       'chickpea', 'mango', 'coconut', 'pomegranate', 'cotton',\n",
              "       'mothbeans', 'mothbeans', 'orange', 'muskmelon', 'maize',\n",
              "       'pigeonpeas', 'banana', 'chickpea', 'blackgram', 'pigeonpeas',\n",
              "       'orange', 'mothbeans', 'mungbean', 'mango', 'papaya', 'muskmelon',\n",
              "       'pomegranate', 'jute', 'rice', 'blackgram', 'papaya', 'blackgram',\n",
              "       'coffee', 'maize', 'coffee', 'orange', 'rice', 'mothbeans',\n",
              "       'mungbean', 'orange', 'kidneybeans', 'pomegranate', 'coconut',\n",
              "       'mango', 'mungbean', 'cotton', 'rice', 'chickpea', 'mungbean',\n",
              "       'apple', 'pigeonpeas', 'mothbeans', 'rice', 'watermelon',\n",
              "       'blackgram', 'pomegranate', 'orange', 'maize', 'grapes',\n",
              "       'chickpea', 'pigeonpeas', 'jute', 'papaya', 'pomegranate',\n",
              "       'coffee', 'mango', 'mothbeans', 'jute', 'watermelon',\n",
              "       'pomegranate', 'rice', 'grapes', 'coconut', 'jute', 'lentil',\n",
              "       'chickpea', 'coffee', 'coffee', 'papaya', 'pomegranate', 'maize',\n",
              "       'rice', 'chickpea', 'pigeonpeas', 'orange', 'pomegranate',\n",
              "       'pigeonpeas', 'coconut', 'kidneybeans', 'pomegranate', 'muskmelon',\n",
              "       'mothbeans', 'mango', 'lentil', 'banana', 'blackgram', 'mango',\n",
              "       'kidneybeans', 'mango', 'cotton', 'mungbean', 'papaya', 'grapes',\n",
              "       'grapes', 'pigeonpeas', 'papaya', 'jute', 'rice', 'chickpea',\n",
              "       'muskmelon', 'coffee', 'watermelon', 'jute', 'jute', 'mothbeans',\n",
              "       'grapes', 'muskmelon', 'blackgram', 'mothbeans', 'mothbeans',\n",
              "       'chickpea', 'blackgram', 'mango', 'banana', 'mango', 'pomegranate',\n",
              "       'jute', 'orange', 'muskmelon', 'chickpea', 'lentil', 'cotton',\n",
              "       'papaya', 'grapes', 'kidneybeans', 'lentil', 'apple', 'rice',\n",
              "       'muskmelon', 'apple', 'papaya', 'blackgram', 'jute', 'chickpea',\n",
              "       'mothbeans', 'lentil', 'grapes', 'jute', 'kidneybeans',\n",
              "       'muskmelon', 'papaya', 'grapes', 'papaya', 'rice', 'coffee',\n",
              "       'muskmelon', 'mothbeans', 'banana', 'papaya', 'orange',\n",
              "       'kidneybeans', 'watermelon', 'pigeonpeas', 'apple', 'watermelon',\n",
              "       'watermelon', 'pigeonpeas', 'kidneybeans', 'blackgram',\n",
              "       'kidneybeans', 'jute', 'coconut', 'cotton', 'kidneybeans',\n",
              "       'orange', 'cotton', 'pigeonpeas', 'pomegranate', 'cotton',\n",
              "       'cotton', 'apple', 'cotton', 'apple', 'orange', 'maize', 'grapes',\n",
              "       'banana', 'apple', 'mothbeans', 'rice', 'kidneybeans', 'banana',\n",
              "       'jute', 'lentil', 'chickpea', 'pomegranate', 'banana', 'chickpea',\n",
              "       'muskmelon', 'pomegranate', 'apple', 'lentil', 'muskmelon',\n",
              "       'orange', 'blackgram', 'muskmelon', 'mothbeans', 'mango',\n",
              "       'chickpea', 'pomegranate', 'mango', 'chickpea', 'coconut',\n",
              "       'muskmelon', 'banana', 'pigeonpeas', 'papaya', 'jute', 'blackgram',\n",
              "       'cotton', 'rice', 'banana', 'coconut', 'rice', 'blackgram',\n",
              "       'maize', 'orange', 'watermelon', 'rice', 'apple', 'grapes',\n",
              "       'pigeonpeas', 'grapes', 'chickpea', 'mango', 'jute', 'pomegranate',\n",
              "       'maize', 'mango', 'grapes', 'banana', 'mungbean', 'pigeonpeas',\n",
              "       'banana', 'cotton', 'blackgram', 'apple'], dtype=object)"
            ]
          },
          "execution_count": 24,
          "metadata": {},
          "output_type": "execute_result"
        }
      ],
      "source": [
        "#Creating a Predictive Model\n",
        "from sklearn.linear_model import LogisticRegression\n",
        "model = LogisticRegression()\n",
        "model.fit(x_train , y_train)\n",
        "y_pred = model.predict(x_test)\n",
        "y_pred"
      ]
    },
    {
      "cell_type": "code",
      "execution_count": 25,
      "metadata": {
        "colab": {
          "base_uri": "https://localhost:8080/",
          "height": 855
        },
        "id": "SxY_UW0x3woo",
        "outputId": "522e8bf9-15c9-4935-de5d-066f5c89645f"
      },
      "outputs": [
        {
          "data": {
            "image/png": "[encoded data removed]",
            "text/plain": [
              "<Figure size 1000x1000 with 2 Axes>"
            ]
          },
          "metadata": {},
          "output_type": "display_data"
        }
      ],
      "source": [
        "#Evaluating the model performance\n",
        "from sklearn.metrics import confusion_matrix\n",
        "\n",
        "# To print  the Confusion Matrix first\n",
        "plt.rcParams['figure.figsize']=(10,10)\n",
        "cm = confusion_matrix(y_test, y_pred)\n",
        "sns.heatmap(cm, annot =True, cmap = 'cividis')\n",
        "plt.title(\"Confusion Matrix for Logistic Regression\",fontsize = 15)\n",
        "plt.show()"
      ]
    },
    {
      "cell_type": "code",
      "execution_count": 26,
      "metadata": {
        "colab": {
          "base_uri": "https://localhost:8080/"
        },
        "id": "j_7pDtD73zbf",
        "outputId": "512d2cfb-15ac-47c8-db08-53083e067101"
      },
      "outputs": [
        {
          "name": "stdout",
          "output_type": "stream",
          "text": [
            "              precision    recall  f1-score   support\n",
            "\n",
            "       apple       1.00      1.00      1.00        18\n",
            "      banana       1.00      1.00      1.00        18\n",
            "   blackgram       0.86      0.82      0.84        22\n",
            "    chickpea       1.00      1.00      1.00        23\n",
            "     coconut       1.00      1.00      1.00        15\n",
            "      coffee       1.00      1.00      1.00        17\n",
            "      cotton       0.89      1.00      0.94        16\n",
            "      grapes       1.00      1.00      1.00        18\n",
            "        jute       0.84      1.00      0.91        21\n",
            " kidneybeans       1.00      1.00      1.00        20\n",
            "      lentil       0.94      0.94      0.94        17\n",
            "       maize       0.94      0.89      0.91        18\n",
            "       mango       1.00      1.00      1.00        21\n",
            "   mothbeans       0.88      0.92      0.90        25\n",
            "    mungbean       1.00      1.00      1.00        17\n",
            "   muskmelon       1.00      1.00      1.00        23\n",
            "      orange       1.00      1.00      1.00        23\n",
            "      papaya       1.00      0.95      0.98        21\n",
            "  pigeonpeas       1.00      1.00      1.00        22\n",
            " pomegranate       1.00      1.00      1.00        23\n",
            "        rice       1.00      0.84      0.91        25\n",
            "  watermelon       1.00      1.00      1.00        17\n",
            "\n",
            "    accuracy                           0.97       440\n",
            "   macro avg       0.97      0.97      0.97       440\n",
            "weighted avg       0.97      0.97      0.97       440\n",
            "\n"
          ]
        }
      ],
      "source": [
        "#Defining the classification Report\n",
        "from sklearn.metrics import classification_report\n",
        "Report = classification_report(y_test , y_pred)\n",
        "print(Report)"
      ]
    },
    {
      "cell_type": "code",
      "execution_count": 27,
      "metadata": {
        "colab": {
          "base_uri": "https://localhost:8080/",
          "height": 206
        },
        "id": "B1rsMrozkW83",
        "outputId": "de5bf888-3a57-4ff8-b724-f5f1e5af1d4a"
      },
      "outputs": [
        {
          "data": {
            "text/html": [
              "<div>\n",
              "<style scoped>\n",
              "    .dataframe tbody tr th:only-of-type {\n",
              "        vertical-align: middle;\n",
              "    }\n",
              "\n",
              "    .dataframe tbody tr th {\n",
              "        vertical-align: top;\n",
              "    }\n",
              "\n",
              "    .dataframe thead th {\n",
              "        text-align: right;\n",
              "    }\n",
              "</style>\n",
              "<table border=\"1\" class=\"dataframe\">\n",
              "  <thead>\n",
              "    <tr style=\"text-align: right;\">\n",
              "      <th></th>\n",
              "      <th>N</th>\n",
              "      <th>P</th>\n",
              "      <th>K</th>\n",
              "      <th>temperature</th>\n",
              "      <th>humidity</th>\n",
              "      <th>ph</th>\n",
              "      <th>rainfall</th>\n",
              "      <th>label</th>\n",
              "    </tr>\n",
              "  </thead>\n",
              "  <tbody>\n",
              "    <tr>\n",
              "      <th>2195</th>\n",
              "      <td>107</td>\n",
              "      <td>34</td>\n",
              "      <td>32</td>\n",
              "      <td>26.774637</td>\n",
              "      <td>66.413269</td>\n",
              "      <td>6.780064</td>\n",
              "      <td>177.774507</td>\n",
              "      <td>coffee</td>\n",
              "    </tr>\n",
              "    <tr>\n",
              "      <th>2196</th>\n",
              "      <td>99</td>\n",
              "      <td>15</td>\n",
              "      <td>27</td>\n",
              "      <td>27.417112</td>\n",
              "      <td>56.636362</td>\n",
              "      <td>6.086922</td>\n",
              "      <td>127.924610</td>\n",
              "      <td>coffee</td>\n",
              "    </tr>\n",
              "    <tr>\n",
              "      <th>2197</th>\n",
              "      <td>118</td>\n",
              "      <td>33</td>\n",
              "      <td>30</td>\n",
              "      <td>24.131797</td>\n",
              "      <td>67.225123</td>\n",
              "      <td>6.362608</td>\n",
              "      <td>173.322839</td>\n",
              "      <td>coffee</td>\n",
              "    </tr>\n",
              "    <tr>\n",
              "      <th>2198</th>\n",
              "      <td>117</td>\n",
              "      <td>32</td>\n",
              "      <td>34</td>\n",
              "      <td>26.272418</td>\n",
              "      <td>52.127394</td>\n",
              "      <td>6.758793</td>\n",
              "      <td>127.175293</td>\n",
              "      <td>coffee</td>\n",
              "    </tr>\n",
              "    <tr>\n",
              "      <th>2199</th>\n",
              "      <td>104</td>\n",
              "      <td>18</td>\n",
              "      <td>30</td>\n",
              "      <td>23.603016</td>\n",
              "      <td>60.396475</td>\n",
              "      <td>6.779833</td>\n",
              "      <td>140.937041</td>\n",
              "      <td>coffee</td>\n",
              "    </tr>\n",
              "  </tbody>\n",
              "</table>\n",
              "</div>"
            ],
            "text/plain": [
              "        N   P   K  temperature   humidity        ph    rainfall   label\n",
              "2195  107  34  32    26.774637  66.413269  6.780064  177.774507  coffee\n",
              "2196   99  15  27    27.417112  56.636362  6.086922  127.924610  coffee\n",
              "2197  118  33  30    24.131797  67.225123  6.362608  173.322839  coffee\n",
              "2198  117  32  34    26.272418  52.127394  6.758793  127.175293  coffee\n",
              "2199  104  18  30    23.603016  60.396475  6.779833  140.937041  coffee"
            ]
          },
          "execution_count": 27,
          "metadata": {},
          "output_type": "execute_result"
        }
      ],
      "source": [
        "data.tail()"
      ]
    },
    {
      "cell_type": "code",
      "execution_count": 28,
      "metadata": {
        "colab": {
          "base_uri": "https://localhost:8080/"
        },
        "id": "gAwuhNuo4FtN",
        "outputId": "a55ae430-a571-4dc3-a198-76d778f17bbf"
      },
      "outputs": [
        {
          "name": "stdout",
          "output_type": "stream",
          "text": [
            "The Suggested Crop for given climatic condition is : ['coffee']\n"
          ]
        },
        {
          "name": "stderr",
          "output_type": "stream",
          "text": [
            "C:\\Users\\Marwa\\AppData\\Roaming\\Python\\Python310\\site-packages\\sklearn\\base.py:439: UserWarning: X does not have valid feature names, but LogisticRegression was fitted with feature names\n",
            "  warnings.warn(\n"
          ]
        }
      ],
      "source": [
        "prediction = model.predict([[107,34,32,26.774637,66.413269,6.780064,177.774507]])\n",
        "print(\"The Suggested Crop for given climatic condition is :\",prediction)"
      ]
    }
  ],
  "metadata": {
    "colab": {
      "provenance": []
    },
    "kernelspec": {
      "display_name": "Python 3",
      "name": "python3"
    },
    "language_info": {
      "codemirror_mode": {
        "name": "ipython",
        "version": 3
      },
      "file_extension": ".py",
      "mimetype": "text/x-python",
      "name": "python",
      "nbconvert_exporter": "python",
      "pygments_lexer": "ipython3",
      "version": "3.10.8"
    },
    "widgets": {
      "application/vnd.jupyter.widget-state+json": {
        "05bb1be41cac432ea6564059ae02b60c": {
          "model_module": "@jupyter-widgets/controls",
          "model_module_version": "1.5.0",
          "model_name": "DescriptionStyleModel",
          "state": {
            "_model_module": "@jupyter-widgets/controls",
            "_model_module_version": "1.5.0",
            "_model_name": "DescriptionStyleModel",
            "_view_count": null,
            "_view_module": "@jupyter-widgets/base",
            "_view_module_version": "1.2.0",
            "_view_name": "StyleView",
            "description_width": ""
          }
        },
        "24e954d0085a4d8da2a682833aa51009": {
          "model_module": "@jupyter-widgets/base",
          "model_module_version": "1.2.0",
          "model_name": "LayoutModel",
          "state": {
            "_model_module": "@jupyter-widgets/base",
            "_model_module_version": "1.2.0",
            "_model_name": "LayoutModel",
            "_view_count": null,
            "_view_module": "@jupyter-widgets/base",
            "_view_module_version": "1.2.0",
            "_view_name": "LayoutView",
            "align_content": null,
            "align_items": null,
            "align_self": null,
            "border": null,
            "bottom": null,
            "display": null,
            "flex": null,
            "flex_flow": null,
            "grid_area": null,
            "grid_auto_columns": null,
            "grid_auto_flow": null,
            "grid_auto_rows": null,
            "grid_column": null,
            "grid_gap": null,
            "grid_row": null,
            "grid_template_areas": null,
            "grid_template_columns": null,
            "grid_template_rows": null,
            "height": null,
            "justify_content": null,
            "justify_items": null,
            "left": null,
            "margin": null,
            "max_height": null,
            "max_width": null,
            "min_height": null,
            "min_width": null,
            "object_fit": null,
            "object_position": null,
            "order": null,
            "overflow": null,
            "overflow_x": null,
            "overflow_y": null,
            "padding": null,
            "right": null,
            "top": null,
            "visibility": null,
            "width": null
          }
        },
        "286dda46b8a5474cafebd3a6061d1b0e": {
          "model_module": "@jupyter-widgets/base",
          "model_module_version": "1.2.0",
          "model_name": "LayoutModel",
          "state": {
            "_model_module": "@jupyter-widgets/base",
            "_model_module_version": "1.2.0",
            "_model_name": "LayoutModel",
            "_view_count": null,
            "_view_module": "@jupyter-widgets/base",
            "_view_module_version": "1.2.0",
            "_view_name": "LayoutView",
            "align_content": null,
            "align_items": null,
            "align_self": null,
            "border": null,
            "bottom": null,
            "display": null,
            "flex": null,
            "flex_flow": null,
            "grid_area": null,
            "grid_auto_columns": null,
            "grid_auto_flow": null,
            "grid_auto_rows": null,
            "grid_column": null,
            "grid_gap": null,
            "grid_row": null,
            "grid_template_areas": null,
            "grid_template_columns": null,
            "grid_template_rows": null,
            "height": null,
            "justify_content": null,
            "justify_items": null,
            "left": null,
            "margin": null,
            "max_height": null,
            "max_width": null,
            "min_height": null,
            "min_width": null,
            "object_fit": null,
            "object_position": null,
            "order": null,
            "overflow": null,
            "overflow_x": null,
            "overflow_y": null,
            "padding": null,
            "right": null,
            "top": null,
            "visibility": null,
            "width": null
          }
        },
        "2ba389a60f034b0caffdcda5ea21b882": {
          "model_module": "@jupyter-widgets/controls",
          "model_module_version": "1.5.0",
          "model_name": "DescriptionStyleModel",
          "state": {
            "_model_module": "@jupyter-widgets/controls",
            "_model_module_version": "1.5.0",
            "_model_name": "DescriptionStyleModel",
            "_view_count": null,
            "_view_module": "@jupyter-widgets/base",
            "_view_module_version": "1.2.0",
            "_view_name": "StyleView",
            "description_width": ""
          }
        },
        "4600026b20304ebeb5585601a65e1940": {
          "model_module": "@jupyter-widgets/base",
          "model_module_version": "1.2.0",
          "model_name": "LayoutModel",
          "state": {
            "_model_module": "@jupyter-widgets/base",
            "_model_module_version": "1.2.0",
            "_model_name": "LayoutModel",
            "_view_count": null,
            "_view_module": "@jupyter-widgets/base",
            "_view_module_version": "1.2.0",
            "_view_name": "LayoutView",
            "align_content": null,
            "align_items": null,
            "align_self": null,
            "border": null,
            "bottom": null,
            "display": null,
            "flex": null,
            "flex_flow": null,
            "grid_area": null,
            "grid_auto_columns": null,
            "grid_auto_flow": null,
            "grid_auto_rows": null,
            "grid_column": null,
            "grid_gap": null,
            "grid_row": null,
            "grid_template_areas": null,
            "grid_template_columns": null,
            "grid_template_rows": null,
            "height": null,
            "justify_content": null,
            "justify_items": null,
            "left": null,
            "margin": null,
            "max_height": null,
            "max_width": null,
            "min_height": null,
            "min_width": null,
            "object_fit": null,
            "object_position": null,
            "order": null,
            "overflow": null,
            "overflow_x": null,
            "overflow_y": null,
            "padding": null,
            "right": null,
            "top": null,
            "visibility": null,
            "width": null
          }
        },
        "4bdd988663c84602b52042085ba8cf78": {
          "model_module": "@jupyter-widgets/controls",
          "model_module_version": "1.5.0",
          "model_name": "DropdownModel",
          "state": {
            "_dom_classes": [],
            "_model_module": "@jupyter-widgets/controls",
            "_model_module_version": "1.5.0",
            "_model_name": "DropdownModel",
            "_options_labels": [
              "N",
              "P",
              "K",
              "temperature",
              "humidity",
              "ph",
              "rainfall"
            ],
            "_view_count": null,
            "_view_module": "@jupyter-widgets/controls",
            "_view_module_version": "1.5.0",
            "_view_name": "DropdownView",
            "description": "Conditions",
            "description_tooltip": null,
            "disabled": false,
            "index": 0,
            "layout": "IPY_MODEL_7dffeb6977a941278da7c75e6109558a",
            "style": "IPY_MODEL_2ba389a60f034b0caffdcda5ea21b882"
          }
        },
        "51b09e3c5fc34e3abd11fec132a5dfd4": {
          "model_module": "@jupyter-widgets/base",
          "model_module_version": "1.2.0",
          "model_name": "LayoutModel",
          "state": {
            "_model_module": "@jupyter-widgets/base",
            "_model_module_version": "1.2.0",
            "_model_name": "LayoutModel",
            "_view_count": null,
            "_view_module": "@jupyter-widgets/base",
            "_view_module_version": "1.2.0",
            "_view_name": "LayoutView",
            "align_content": null,
            "align_items": null,
            "align_self": null,
            "border": null,
            "bottom": null,
            "display": null,
            "flex": null,
            "flex_flow": null,
            "grid_area": null,
            "grid_auto_columns": null,
            "grid_auto_flow": null,
            "grid_auto_rows": null,
            "grid_column": null,
            "grid_gap": null,
            "grid_row": null,
            "grid_template_areas": null,
            "grid_template_columns": null,
            "grid_template_rows": null,
            "height": null,
            "justify_content": null,
            "justify_items": null,
            "left": null,
            "margin": null,
            "max_height": null,
            "max_width": null,
            "min_height": null,
            "min_width": null,
            "object_fit": null,
            "object_position": null,
            "order": null,
            "overflow": null,
            "overflow_x": null,
            "overflow_y": null,
            "padding": null,
            "right": null,
            "top": null,
            "visibility": null,
            "width": null
          }
        },
        "64b1e7dad6a44aa98ffe041d40ff0c4a": {
          "model_module": "@jupyter-widgets/base",
          "model_module_version": "1.2.0",
          "model_name": "LayoutModel",
          "state": {
            "_model_module": "@jupyter-widgets/base",
            "_model_module_version": "1.2.0",
            "_model_name": "LayoutModel",
            "_view_count": null,
            "_view_module": "@jupyter-widgets/base",
            "_view_module_version": "1.2.0",
            "_view_name": "LayoutView",
            "align_content": null,
            "align_items": null,
            "align_self": null,
            "border": null,
            "bottom": null,
            "display": null,
            "flex": null,
            "flex_flow": null,
            "grid_area": null,
            "grid_auto_columns": null,
            "grid_auto_flow": null,
            "grid_auto_rows": null,
            "grid_column": null,
            "grid_gap": null,
            "grid_row": null,
            "grid_template_areas": null,
            "grid_template_columns": null,
            "grid_template_rows": null,
            "height": null,
            "justify_content": null,
            "justify_items": null,
            "left": null,
            "margin": null,
            "max_height": null,
            "max_width": null,
            "min_height": null,
            "min_width": null,
            "object_fit": null,
            "object_position": null,
            "order": null,
            "overflow": null,
            "overflow_x": null,
            "overflow_y": null,
            "padding": null,
            "right": null,
            "top": null,
            "visibility": null,
            "width": null
          }
        },
        "7dffeb6977a941278da7c75e6109558a": {
          "model_module": "@jupyter-widgets/base",
          "model_module_version": "1.2.0",
          "model_name": "LayoutModel",
          "state": {
            "_model_module": "@jupyter-widgets/base",
            "_model_module_version": "1.2.0",
            "_model_name": "LayoutModel",
            "_view_count": null,
            "_view_module": "@jupyter-widgets/base",
            "_view_module_version": "1.2.0",
            "_view_name": "LayoutView",
            "align_content": null,
            "align_items": null,
            "align_self": null,
            "border": null,
            "bottom": null,
            "display": null,
            "flex": null,
            "flex_flow": null,
            "grid_area": null,
            "grid_auto_columns": null,
            "grid_auto_flow": null,
            "grid_auto_rows": null,
            "grid_column": null,
            "grid_gap": null,
            "grid_row": null,
            "grid_template_areas": null,
            "grid_template_columns": null,
            "grid_template_rows": null,
            "height": null,
            "justify_content": null,
            "justify_items": null,
            "left": null,
            "margin": null,
            "max_height": null,
            "max_width": null,
            "min_height": null,
            "min_width": null,
            "object_fit": null,
            "object_position": null,
            "order": null,
            "overflow": null,
            "overflow_x": null,
            "overflow_y": null,
            "padding": null,
            "right": null,
            "top": null,
            "visibility": null,
            "width": null
          }
        },
        "86ee6f49f5e4435dbc3c777d11c460bf": {
          "model_module": "@jupyter-widgets/base",
          "model_module_version": "1.2.0",
          "model_name": "LayoutModel",
          "state": {
            "_model_module": "@jupyter-widgets/base",
            "_model_module_version": "1.2.0",
            "_model_name": "LayoutModel",
            "_view_count": null,
            "_view_module": "@jupyter-widgets/base",
            "_view_module_version": "1.2.0",
            "_view_name": "LayoutView",
            "align_content": null,
            "align_items": null,
            "align_self": null,
            "border": null,
            "bottom": null,
            "display": null,
            "flex": null,
            "flex_flow": null,
            "grid_area": null,
            "grid_auto_columns": null,
            "grid_auto_flow": null,
            "grid_auto_rows": null,
            "grid_column": null,
            "grid_gap": null,
            "grid_row": null,
            "grid_template_areas": null,
            "grid_template_columns": null,
            "grid_template_rows": null,
            "height": null,
            "justify_content": null,
            "justify_items": null,
            "left": null,
            "margin": null,
            "max_height": null,
            "max_width": null,
            "min_height": null,
            "min_width": null,
            "object_fit": null,
            "object_position": null,
            "order": null,
            "overflow": null,
            "overflow_x": null,
            "overflow_y": null,
            "padding": null,
            "right": null,
            "top": null,
            "visibility": null,
            "width": null
          }
        },
        "8bef4bbc09fd41e4a8261c43e663bb9a": {
          "model_module": "@jupyter-widgets/controls",
          "model_module_version": "1.5.0",
          "model_name": "VBoxModel",
          "state": {
            "_dom_classes": [
              "widget-interact"
            ],
            "_model_module": "@jupyter-widgets/controls",
            "_model_module_version": "1.5.0",
            "_model_name": "VBoxModel",
            "_view_count": null,
            "_view_module": "@jupyter-widgets/controls",
            "_view_module_version": "1.5.0",
            "_view_name": "VBoxView",
            "box_style": "",
            "children": [
              "IPY_MODEL_4bdd988663c84602b52042085ba8cf78",
              "IPY_MODEL_d9ab158d71f749af848bff9920ac43d1"
            ],
            "layout": "IPY_MODEL_24e954d0085a4d8da2a682833aa51009"
          }
        },
        "8cf63738efd245d999ded32d9ef05bed": {
          "model_module": "@jupyter-widgets/base",
          "model_module_version": "1.2.0",
          "model_name": "LayoutModel",
          "state": {
            "_model_module": "@jupyter-widgets/base",
            "_model_module_version": "1.2.0",
            "_model_name": "LayoutModel",
            "_view_count": null,
            "_view_module": "@jupyter-widgets/base",
            "_view_module_version": "1.2.0",
            "_view_name": "LayoutView",
            "align_content": null,
            "align_items": null,
            "align_self": null,
            "border": null,
            "bottom": null,
            "display": null,
            "flex": null,
            "flex_flow": null,
            "grid_area": null,
            "grid_auto_columns": null,
            "grid_auto_flow": null,
            "grid_auto_rows": null,
            "grid_column": null,
            "grid_gap": null,
            "grid_row": null,
            "grid_template_areas": null,
            "grid_template_columns": null,
            "grid_template_rows": null,
            "height": null,
            "justify_content": null,
            "justify_items": null,
            "left": null,
            "margin": null,
            "max_height": null,
            "max_width": null,
            "min_height": null,
            "min_width": null,
            "object_fit": null,
            "object_position": null,
            "order": null,
            "overflow": null,
            "overflow_x": null,
            "overflow_y": null,
            "padding": null,
            "right": null,
            "top": null,
            "visibility": null,
            "width": null
          }
        },
        "9fe2033e27af45dcbb47e9710c3b8091": {
          "model_module": "@jupyter-widgets/controls",
          "model_module_version": "1.5.0",
          "model_name": "VBoxModel",
          "state": {
            "_dom_classes": [
              "widget-interact"
            ],
            "_model_module": "@jupyter-widgets/controls",
            "_model_module_version": "1.5.0",
            "_model_name": "VBoxModel",
            "_view_count": null,
            "_view_module": "@jupyter-widgets/controls",
            "_view_module_version": "1.5.0",
            "_view_name": "VBoxView",
            "box_style": "",
            "children": [
              "IPY_MODEL_c241f6a9b2224081b903cbcefabfd23c",
              "IPY_MODEL_efaeff66f4a14af389aec9642fbd80e3"
            ],
            "layout": "IPY_MODEL_51b09e3c5fc34e3abd11fec132a5dfd4"
          }
        },
        "a6c8b8822b4649b7ba206c2d5d43c85f": {
          "model_module": "@jupyter-widgets/controls",
          "model_module_version": "1.5.0",
          "model_name": "DropdownModel",
          "state": {
            "_dom_classes": [],
            "_model_module": "@jupyter-widgets/controls",
            "_model_module_version": "1.5.0",
            "_model_name": "DropdownModel",
            "_options_labels": [
              "rice",
              "maize",
              "jute",
              "cotton",
              "coconut",
              "papaya",
              "orange",
              "apple",
              "muskmelon",
              "watermelon",
              "grapes",
              "mango",
              "banana",
              "pomegranate",
              "lentil",
              "blackgram",
              "mungbean",
              "mothbeans",
              "pigeonpeas",
              "kidneybeans",
              "chickpea",
              "coffee"
            ],
            "_view_count": null,
            "_view_module": "@jupyter-widgets/controls",
            "_view_module_version": "1.5.0",
            "_view_name": "DropdownView",
            "description": "crops",
            "description_tooltip": null,
            "disabled": false,
            "index": 0,
            "layout": "IPY_MODEL_4600026b20304ebeb5585601a65e1940",
            "style": "IPY_MODEL_b9652c867ace47e5a6ab260feaab2cf6"
          }
        },
        "b28a50f8a7754d7da601d0bba1c679f4": {
          "model_module": "@jupyter-widgets/controls",
          "model_module_version": "1.5.0",
          "model_name": "VBoxModel",
          "state": {
            "_dom_classes": [
              "widget-interact"
            ],
            "_model_module": "@jupyter-widgets/controls",
            "_model_module_version": "1.5.0",
            "_model_name": "VBoxModel",
            "_view_count": null,
            "_view_module": "@jupyter-widgets/controls",
            "_view_module_version": "1.5.0",
            "_view_name": "VBoxView",
            "box_style": "",
            "children": [
              "IPY_MODEL_a6c8b8822b4649b7ba206c2d5d43c85f",
              "IPY_MODEL_cedbeb29904b423b8acaba4299be48e7"
            ],
            "layout": "IPY_MODEL_e082e8dbb7354c19a2226428fe819ee8"
          }
        },
        "b9652c867ace47e5a6ab260feaab2cf6": {
          "model_module": "@jupyter-widgets/controls",
          "model_module_version": "1.5.0",
          "model_name": "DescriptionStyleModel",
          "state": {
            "_model_module": "@jupyter-widgets/controls",
            "_model_module_version": "1.5.0",
            "_model_name": "DescriptionStyleModel",
            "_view_count": null,
            "_view_module": "@jupyter-widgets/base",
            "_view_module_version": "1.2.0",
            "_view_name": "StyleView",
            "description_width": ""
          }
        },
        "c241f6a9b2224081b903cbcefabfd23c": {
          "model_module": "@jupyter-widgets/controls",
          "model_module_version": "1.5.0",
          "model_name": "DropdownModel",
          "state": {
            "_dom_classes": [],
            "_model_module": "@jupyter-widgets/controls",
            "_model_module_version": "1.5.0",
            "_model_name": "DropdownModel",
            "_options_labels": [
              "N",
              "P",
              "K",
              "temperature",
              "humidity",
              "ph",
              "rainfall"
            ],
            "_view_count": null,
            "_view_module": "@jupyter-widgets/controls",
            "_view_module_version": "1.5.0",
            "_view_name": "DropdownView",
            "description": "Conditions",
            "description_tooltip": null,
            "disabled": false,
            "index": 0,
            "layout": "IPY_MODEL_286dda46b8a5474cafebd3a6061d1b0e",
            "style": "IPY_MODEL_05bb1be41cac432ea6564059ae02b60c"
          }
        },
        "cedbeb29904b423b8acaba4299be48e7": {
          "model_module": "@jupyter-widgets/output",
          "model_module_version": "1.0.0",
          "model_name": "OutputModel",
          "state": {
            "_dom_classes": [],
            "_model_module": "@jupyter-widgets/output",
            "_model_module_version": "1.0.0",
            "_model_name": "OutputModel",
            "_view_count": null,
            "_view_module": "@jupyter-widgets/output",
            "_view_module_version": "1.0.0",
            "_view_name": "OutputView",
            "layout": "IPY_MODEL_64b1e7dad6a44aa98ffe041d40ff0c4a",
            "msg_id": "",
            "outputs": [
              {
                "name": "stdout",
                "output_type": "stream",
                "text": [
                  "Statistic For Nitrogen :\n",
                  "Min: 60\n",
                  "Max: 99\n",
                  "Mean: 79.89\n",
                  "Median: 80.0\n",
                  "\n",
                  "\n",
                  "Statistic For Potassium :\n",
                  "Min: 35\n",
                  "Max: 60\n",
                  "Mean: 47.58\n",
                  "Median: 47.0\n"
                ]
              }
            ]
          }
        },
        "d9ab158d71f749af848bff9920ac43d1": {
          "model_module": "@jupyter-widgets/output",
          "model_module_version": "1.0.0",
          "model_name": "OutputModel",
          "state": {
            "_dom_classes": [],
            "_model_module": "@jupyter-widgets/output",
            "_model_module_version": "1.0.0",
            "_model_name": "OutputModel",
            "_view_count": null,
            "_view_module": "@jupyter-widgets/output",
            "_view_module_version": "1.0.0",
            "_view_name": "OutputView",
            "layout": "IPY_MODEL_8cf63738efd245d999ded32d9ef05bed",
            "msg_id": "",
            "outputs": [
              {
                "name": "stdout",
                "output_type": "stream",
                "text": [
                  "Crops which required greater than average N  : \n",
                  "\n",
                  "['rice' 'maize' 'chickpea' 'blackgram' 'banana' 'watermelon' 'muskmelon'\n",
                  " 'papaya' 'cotton' 'jute' 'coffee']\n",
                  "\n",
                  "\n",
                  "Crops which required less than average N  : \n",
                  "\n",
                  "['chickpea' 'kidneybeans' 'pigeonpeas' 'mothbeans' 'mungbean' 'blackgram'\n",
                  " 'lentil' 'pomegranate' 'mango' 'grapes' 'apple' 'orange' 'papaya'\n",
                  " 'coconut']\n"
                ]
              }
            ]
          }
        },
        "e082e8dbb7354c19a2226428fe819ee8": {
          "model_module": "@jupyter-widgets/base",
          "model_module_version": "1.2.0",
          "model_name": "LayoutModel",
          "state": {
            "_model_module": "@jupyter-widgets/base",
            "_model_module_version": "1.2.0",
            "_model_name": "LayoutModel",
            "_view_count": null,
            "_view_module": "@jupyter-widgets/base",
            "_view_module_version": "1.2.0",
            "_view_name": "LayoutView",
            "align_content": null,
            "align_items": null,
            "align_self": null,
            "border": null,
            "bottom": null,
            "display": null,
            "flex": null,
            "flex_flow": null,
            "grid_area": null,
            "grid_auto_columns": null,
            "grid_auto_flow": null,
            "grid_auto_rows": null,
            "grid_column": null,
            "grid_gap": null,
            "grid_row": null,
            "grid_template_areas": null,
            "grid_template_columns": null,
            "grid_template_rows": null,
            "height": null,
            "justify_content": null,
            "justify_items": null,
            "left": null,
            "margin": null,
            "max_height": null,
            "max_width": null,
            "min_height": null,
            "min_width": null,
            "object_fit": null,
            "object_position": null,
            "order": null,
            "overflow": null,
            "overflow_x": null,
            "overflow_y": null,
            "padding": null,
            "right": null,
            "top": null,
            "visibility": null,
            "width": null
          }
        },
        "efaeff66f4a14af389aec9642fbd80e3": {
          "model_module": "@jupyter-widgets/output",
          "model_module_version": "1.0.0",
          "model_name": "OutputModel",
          "state": {
            "_dom_classes": [],
            "_model_module": "@jupyter-widgets/output",
            "_model_module_version": "1.0.0",
            "_model_name": "OutputModel",
            "_view_count": null,
            "_view_module": "@jupyter-widgets/output",
            "_view_module_version": "1.0.0",
            "_view_name": "OutputView",
            "layout": "IPY_MODEL_86ee6f49f5e4435dbc3c777d11c460bf",
            "msg_id": "",
            "outputs": [
              {
                "name": "stdout",
                "output_type": "stream",
                "text": [
                  "Average Value for N is 50.551818181818184\n",
                  "\n",
                  "\n",
                  "Rice : 79.89\n",
                  "Maize : 77.76\n",
                  "Chickpea : 40.09\n",
                  "Kidneybeans : 20.75\n",
                  "Pigeonpeas : 20.73\n",
                  "Mothbeans : 21.44\n",
                  "Mungbean : 20.99\n",
                  "Blackgram : 40.02\n",
                  "Lentil : 18.77\n",
                  "Pomegranate : 18.87\n",
                  "Banana : 100.23\n",
                  "Mango : 20.07\n",
                  "Grapes : 23.18\n",
                  "Watermelon : 99.42\n",
                  "Muskmelon : 100.32\n",
                  "Apple : 20.8\n",
                  "Orange : 19.58\n",
                  "Papaya : 49.88\n",
                  "Coconut : 21.98\n",
                  "Cotton : 117.77\n",
                  "Jute : 78.4\n",
                  "Coffee : 101.2\n"
                ]
              }
            ]
          }
        }
      }
    }
  },
  "nbformat": 4,
  "nbformat_minor": 0
}
